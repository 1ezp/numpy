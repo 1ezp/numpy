{
 "cells": [
  {
   "cell_type": "code",
   "execution_count": 3,
   "id": "fb1c23d3",
   "metadata": {},
   "outputs": [],
   "source": [
    "import numpy as np\n"
   ]
  },
  {
   "cell_type": "code",
   "execution_count": 10,
   "id": "33974070",
   "metadata": {},
   "outputs": [
    {
     "name": "stdout",
     "output_type": "stream",
     "text": [
      "['C' 'D' 'E' 'F']\n"
     ]
    }
   ],
   "source": [
    "a = np.array([\"A\",\"B\",\"C\",\"D\",\"E\",\"F\"])\n",
    "\n",
    "print(a[2::])"
   ]
  },
  {
   "cell_type": "code",
   "execution_count": 26,
   "id": "02bc0c08",
   "metadata": {},
   "outputs": [
    {
     "name": "stdout",
     "output_type": "stream",
     "text": [
      "2\n",
      "[['E']\n",
      " ['M']]\n"
     ]
    }
   ],
   "source": [
    "b = np.array([ [\"A\",\"B\",\"X\"], [\"C\",\"D\",\"Y\"], [\"E\",\"F\",\"Z\"],[\"M\",\"N\",\"O\"] ])\n",
    "\n",
    "print(b.ndim)\n",
    "print(b[2:,:2:2])"
   ]
  }
 ],
 "metadata": {
  "kernelspec": {
   "display_name": "Python 3 (ipykernel)",
   "language": "python",
   "name": "python3"
  },
  "language_info": {
   "codemirror_mode": {
    "name": "ipython",
    "version": 3
   },
   "file_extension": ".py",
   "mimetype": "text/x-python",
   "name": "python",
   "nbconvert_exporter": "python",
   "pygments_lexer": "ipython3",
   "version": "3.10.5"
  }
 },
 "nbformat": 4,
 "nbformat_minor": 5
}
