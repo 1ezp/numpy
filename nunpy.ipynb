{
 "cells": [
  {
   "cell_type": "code",
   "execution_count": 38,
   "id": "8a3cd046",
   "metadata": {},
   "outputs": [],
   "source": [
    "import numpy as np\n",
    "import time,sys"
   ]
  },
  {
   "cell_type": "code",
   "execution_count": 62,
   "id": "67be9342",
   "metadata": {
    "scrolled": false
   },
   "outputs": [
    {
     "name": "stdout",
     "output_type": "stream",
     "text": [
      "4\n",
      "100\n",
      "400\n",
      "\n",
      "\n",
      "\n",
      "28\n",
      "100\n",
      "2800\n"
     ]
    }
   ],
   "source": [
    "myarray = np.arange(100)\n",
    "\n",
    "print(myarray.itemsize)\n",
    "print(myarray.size)\n",
    "print(myarray.itemsize*myarray.size)\n",
    "\n",
    "print(\"\\n\\n\")\n",
    "\n",
    "mylist = range(100)\n",
    "print(sys.getsizeof(mylist[2]))\n",
    "print(len(mylist))\n",
    "print(len(mylist)*sys.getsizeof(mylist[2]))"
   ]
  },
  {
   "cell_type": "code",
   "execution_count": null,
   "id": "e47cffe5",
   "metadata": {},
   "outputs": [],
   "source": []
  }
 ],
 "metadata": {
  "kernelspec": {
   "display_name": "Python 3 (ipykernel)",
   "language": "python",
   "name": "python3"
  },
  "language_info": {
   "codemirror_mode": {
    "name": "ipython",
    "version": 3
   },
   "file_extension": ".py",
   "mimetype": "text/x-python",
   "name": "python",
   "nbconvert_exporter": "python",
   "pygments_lexer": "ipython3",
   "version": "3.10.5"
  }
 },
 "nbformat": 4,
 "nbformat_minor": 5
}
