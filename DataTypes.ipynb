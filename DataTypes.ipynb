{
 "cells": [
  {
   "cell_type": "code",
   "execution_count": null,
   "id": "3eb49e04",
   "metadata": {},
   "outputs": [],
   "source": [
    "import numpy as np"
   ]
  },
  {
   "cell_type": "code",
   "execution_count": null,
   "id": "72db5ee5",
   "metadata": {},
   "outputs": [],
   "source": [
    "myArray1 = np.array([1,2,3])\n",
    "myArray2 = np.array([1.5,20.15,3.601])\n",
    "myArray3 = np.array([\"osama alzero\",\"B\",\"Ahmed\"])\n",
    "\n"
   ]
  },
  {
   "cell_type": "code",
   "execution_count": 11,
   "id": "c5aad04b",
   "metadata": {},
   "outputs": [
    {
     "name": "stdout",
     "output_type": "stream",
     "text": [
      "int32\n",
      "float64\n",
      "<U12\n"
     ]
    }
   ],
   "source": [
    "print(myArray1.dtype)\n",
    "print(myArray2.dtype)\n",
    "print(myArray3.dtype)"
   ]
  },
  {
   "cell_type": "code",
   "execution_count": 25,
   "id": "3a71974d",
   "metadata": {},
   "outputs": [],
   "source": [
    "myArray4 = np.array([1,2,3],dtype=float) # float or 'f'\n",
    "myArray5 = np.array([1.5,20.15,3.601],dtype=int) # int or 'int' or 'i' \n",
    "myArray6 = np.array([\"osama alzero\",\"B\",\"Ahmed\"])"
   ]
  },
  {
   "cell_type": "code",
   "execution_count": 27,
   "id": "78c4cabc",
   "metadata": {},
   "outputs": [
    {
     "name": "stdout",
     "output_type": "stream",
     "text": [
      "float64\n",
      "int32\n"
     ]
    }
   ],
   "source": [
    "print(myArray4.dtype)\n",
    "print(myArray5.dtype)"
   ]
  },
  {
   "cell_type": "code",
   "execution_count": 37,
   "id": "3e886df3",
   "metadata": {},
   "outputs": [
    {
     "name": "stdout",
     "output_type": "stream",
     "text": [
      "int32\n",
      "-------------------------\n",
      "float64\n",
      "[0. 1. 2. 3. 0. 4.]\n"
     ]
    }
   ],
   "source": [
    "myArray7 = np.array([0,1,2,3,0,4])\n",
    "print(myArray7.dtype)\n",
    "print(\"-\"*25)\n",
    "myArray7 = myArray7.astype('float') # you can use 'bool'\n",
    "print(myArray7.dtype)\n",
    "print(myArray7)"
   ]
  },
  {
   "cell_type": "code",
   "execution_count": 38,
   "id": "55f31263",
   "metadata": {},
   "outputs": [
    {
     "name": "stdout",
     "output_type": "stream",
     "text": [
      "float32\n",
      "4\n",
      "float64\n",
      "8\n"
     ]
    }
   ],
   "source": [
    "myArray8 = np.array([100,200,300,400],dtype='f')\n",
    "print(myArray8.dtype)\n",
    "print(myArray8[0].itemsize)\n",
    "\n",
    "myArray8 = myArray8.astype('float')\n",
    "print(myArray8.dtype)\n",
    "print(myArray8[0].itemsize)\n"
   ]
  }
 ],
 "metadata": {
  "kernelspec": {
   "display_name": "Python 3 (ipykernel)",
   "language": "python",
   "name": "python3"
  },
  "language_info": {
   "codemirror_mode": {
    "name": "ipython",
    "version": 3
   },
   "file_extension": ".py",
   "mimetype": "text/x-python",
   "name": "python",
   "nbconvert_exporter": "python",
   "pygments_lexer": "ipython3",
   "version": "3.10.5"
  }
 },
 "nbformat": 4,
 "nbformat_minor": 5
}
