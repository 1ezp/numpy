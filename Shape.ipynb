{
 "cells": [
  {
   "cell_type": "code",
   "execution_count": 1,
   "id": "83220f37",
   "metadata": {},
   "outputs": [],
   "source": [
    "import numpy as np"
   ]
  },
  {
   "cell_type": "code",
   "execution_count": 2,
   "id": "4617ede7",
   "metadata": {},
   "outputs": [
    {
     "name": "stdout",
     "output_type": "stream",
     "text": [
      "(4,)\n"
     ]
    }
   ],
   "source": [
    "myarray1 = np.array([1,2,3,4])\n",
    "\n",
    "print(myarray1.shape)"
   ]
  },
  {
   "cell_type": "code",
   "execution_count": 4,
   "id": "b4851fa0",
   "metadata": {},
   "outputs": [
    {
     "name": "stdout",
     "output_type": "stream",
     "text": [
      "(3, 4)\n"
     ]
    }
   ],
   "source": [
    "myarray2 = np.array([[1,2,3,4],[1,2,3,4],[1,2,3,4]])\n",
    "print(myarray2.shape)"
   ]
  },
  {
   "cell_type": "code",
   "execution_count": 10,
   "id": "823cc54c",
   "metadata": {},
   "outputs": [
    {
     "name": "stdout",
     "output_type": "stream",
     "text": [
      "(2, 2, 4)\n"
     ]
    }
   ],
   "source": [
    "myarray3 = np.array(\n",
    "    [\n",
    "        [\n",
    "            [1,2,3,4],\n",
    "            [1,2,3,4]\n",
    "        ]\n",
    "    ,\n",
    "        [\n",
    "            [1,2,3,4],\n",
    "            [1,2,3,4]\n",
    "        ]\n",
    "    ])\n",
    "print(myarray3.shape)"
   ]
  },
  {
   "cell_type": "code",
   "execution_count": 11,
   "id": "c565f91a",
   "metadata": {},
   "outputs": [
    {
     "name": "stdout",
     "output_type": "stream",
     "text": [
      "(12,)\n"
     ]
    }
   ],
   "source": [
    "myarray4 = np.array([1,2,3,4,5,6,7,8,9,10,11,12])\n",
    "print(myarray4.shape)"
   ]
  },
  {
   "cell_type": "code",
   "execution_count": 14,
   "id": "d31eba8d",
   "metadata": {},
   "outputs": [
    {
     "name": "stdout",
     "output_type": "stream",
     "text": [
      "(3, 4)\n",
      "[[ 1  2  3  4]\n",
      " [ 5  6  7  8]\n",
      " [ 9 10 11 12]]\n"
     ]
    }
   ],
   "source": [
    "remyarray4 = myarray4.reshape(3,4)\n",
    "print(remyarray4.shape)\n",
    "print(remyarray4)"
   ]
  },
  {
   "cell_type": "code",
   "execution_count": 18,
   "id": "100d142d",
   "metadata": {},
   "outputs": [
    {
     "name": "stdout",
     "output_type": "stream",
     "text": [
      "(2, 10)\n",
      "[ 1  2  3  4  5  6  7  8  9 10  1  2  3  4  5  6  7  8  9 10]\n"
     ]
    }
   ],
   "source": [
    "myarray5 = np.array([[1,2,3,4,5,6,7,8,9,10],[1,2,3,4,5,6,7,8,9,10]])\n",
    "print(myarray5.shape)\n",
    "remyarray5 = myarray5.reshape(-1)\n",
    "print(remyarray5)"
   ]
  },
  {
   "cell_type": "code",
   "execution_count": 22,
   "id": "e6e7c4e1",
   "metadata": {},
   "outputs": [
    {
     "name": "stdout",
     "output_type": "stream",
     "text": [
      "(2, 10)\n",
      "[[[ 1  2]\n",
      "  [ 3  4]\n",
      "  [ 5  6]\n",
      "  [ 7  8]\n",
      "  [ 9 10]]\n",
      "\n",
      " [[ 1  2]\n",
      "  [ 3  4]\n",
      "  [ 5  6]\n",
      "  [ 7  8]\n",
      "  [ 9 10]]]\n"
     ]
    }
   ],
   "source": [
    "myarray6 = np.array([[1,2,3,4,5,6,7,8,9,10],[1,2,3,4,5,6,7,8,9,10]])\n",
    "print(myarray6.shape)\n",
    "remyarray6 = myarray6.reshape(2,5,2)\n",
    "print(remyarray6)"
   ]
  }
 ],
 "metadata": {
  "kernelspec": {
   "display_name": "Python 3 (ipykernel)",
   "language": "python",
   "name": "python3"
  },
  "language_info": {
   "codemirror_mode": {
    "name": "ipython",
    "version": 3
   },
   "file_extension": ".py",
   "mimetype": "text/x-python",
   "name": "python",
   "nbconvert_exporter": "python",
   "pygments_lexer": "ipython3",
   "version": "3.10.5"
  }
 },
 "nbformat": 4,
 "nbformat_minor": 5
}
