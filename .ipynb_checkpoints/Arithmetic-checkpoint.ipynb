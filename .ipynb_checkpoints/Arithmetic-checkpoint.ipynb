{
 "cells": [
  {
   "cell_type": "code",
   "execution_count": 1,
   "id": "85b66095",
   "metadata": {},
   "outputs": [],
   "source": [
    "import numpy as np\n"
   ]
  },
  {
   "cell_type": "code",
   "execution_count": 4,
   "id": "f59a183a",
   "metadata": {},
   "outputs": [
    {
     "name": "stdout",
     "output_type": "stream",
     "text": [
      "[15 22 34]\n",
      "[ 5 18 26]\n",
      "[ 50  40 120]\n",
      "[ 2.  10.   7.5]\n"
     ]
    }
   ],
   "source": [
    "# 1nd\n",
    "myarray1 = np.array([10,20,30])\n",
    "myarray2 = np.array([5,2,4])\n",
    "\n",
    "print(myarray1 + myarray2)\n",
    "print(myarray1 - myarray2)\n",
    "print(myarray1 * myarray2)\n",
    "print(myarray1 / myarray2)"
   ]
  },
  {
   "cell_type": "code",
   "execution_count": 6,
   "id": "1e388477",
   "metadata": {},
   "outputs": [
    {
     "name": "stdout",
     "output_type": "stream",
     "text": [
      "[[ 3 11]\n",
      " [15 14]]\n"
     ]
    }
   ],
   "source": [
    "# 2nd\n",
    "myarray3 = np.array([ [1,4],[5,9] ])\n",
    "myarray4 = np.array([ [2,7],[10,5] ])\n",
    "\n",
    "print(myarray3 + myarray4)\n"
   ]
  },
  {
   "cell_type": "code",
   "execution_count": 9,
   "id": "4a9f63b7",
   "metadata": {},
   "outputs": [
    {
     "name": "stdout",
     "output_type": "stream",
     "text": [
      "10\n",
      "30\n",
      "60\n"
     ]
    }
   ],
   "source": [
    "# 1nd\n",
    "myarray5 = np.array([10,20,30])\n",
    "print(myarray5.min())\n",
    "print(myarray5.max())\n",
    "print(myarray5.sum())"
   ]
  },
  {
   "cell_type": "code",
   "execution_count": 11,
   "id": "3a882e1b",
   "metadata": {},
   "outputs": [
    {
     "name": "stdout",
     "output_type": "stream",
     "text": [
      "2\n",
      "10\n",
      "24\n"
     ]
    }
   ],
   "source": [
    "# 2nd\n",
    "myarray6 = np.array([ [2,7],[10,5] ])\n",
    "print(myarray6.min())\n",
    "print(myarray6.max())\n",
    "print(myarray6.sum())"
   ]
  },
  {
   "cell_type": "code",
   "execution_count": 13,
   "id": "fbf4527d",
   "metadata": {},
   "outputs": [
    {
     "name": "stdout",
     "output_type": "stream",
     "text": [
      "[ 2  7 10  5]\n",
      "1\n"
     ]
    }
   ],
   "source": [
    "# Ravel \n",
    "myarray7 = np.array([ [2,7],[10,5] ])\n",
    "print(myarray7.ravel())\n",
    "x = myarray7.ravel()\n",
    "print(x.ndim)"
   ]
  }
 ],
 "metadata": {
  "kernelspec": {
   "display_name": "Python 3 (ipykernel)",
   "language": "python",
   "name": "python3"
  },
  "language_info": {
   "codemirror_mode": {
    "name": "ipython",
    "version": 3
   },
   "file_extension": ".py",
   "mimetype": "text/x-python",
   "name": "python",
   "nbconvert_exporter": "python",
   "pygments_lexer": "ipython3",
   "version": "3.10.5"
  }
 },
 "nbformat": 4,
 "nbformat_minor": 5
}
